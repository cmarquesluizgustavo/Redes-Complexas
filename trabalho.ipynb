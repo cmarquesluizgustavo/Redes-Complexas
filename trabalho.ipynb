{
 "cells": [
  {
   "cell_type": "code",
   "execution_count": 1,
   "metadata": {},
   "outputs": [
    {
     "name": "stdout",
     "output_type": "stream",
     "text": [
      "Collecting graph-tools\n",
      "  Downloading graph_tools-1.11-py3-none-any.whl (36 kB)\n",
      "Requirement already satisfied: numpy in /opt/anaconda3/envs/Quantum/lib/python3.10/site-packages (from graph-tools) (1.22.4)\n",
      "Collecting perlcompat\n",
      "  Downloading perlcompat-1.1-py3-none-any.whl (15 kB)\n",
      "Collecting tbdump\n",
      "  Downloading tbdump-1.4-py3-none-any.whl (17 kB)\n",
      "Collecting pytess\n",
      "  Downloading Pytess-1.0.0.tar.gz (11 kB)\n",
      "Collecting ansiterm\n",
      "  Downloading ansiterm-1.1-py3-none-any.whl (15 kB)\n",
      "Building wheels for collected packages: pytess\n",
      "  Building wheel for pytess (setup.py) ... \u001b[?25ldone\n",
      "\u001b[?25h  Created wheel for pytess: filename=Pytess-1.0.0-py3-none-any.whl size=11846 sha256=dad7ac84c9303d9a33ade4f14b59c1a4dd045a2fc46cd946f30f186e5d44b238\n",
      "  Stored in directory: /Users/luizgustavomarques/Library/Caches/pip/wheels/d9/cd/dc/05269c4a9e27b4e65cc1bda70f1b0fab8bcd39b1d04ff0a521\n",
      "Successfully built pytess\n",
      "Installing collected packages: ansiterm, tbdump, pytess, perlcompat, graph-tools\n",
      "Successfully installed ansiterm-1.1 graph-tools-1.11 perlcompat-1.1 pytess-1.0.0 tbdump-1.4\n"
     ]
    }
   ],
   "source": [
    "!pip install graph-tools"
   ]
  }
 ],
 "metadata": {
  "kernelspec": {
   "display_name": "Quantum",
   "language": "python",
   "name": "python3"
  },
  "language_info": {
   "codemirror_mode": {
    "name": "ipython",
    "version": 3
   },
   "file_extension": ".py",
   "mimetype": "text/x-python",
   "name": "python",
   "nbconvert_exporter": "python",
   "pygments_lexer": "ipython3",
   "version": "3.10.4"
  }
 },
 "nbformat": 4,
 "nbformat_minor": 2
}
